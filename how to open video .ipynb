{
 "cells": [
  {
   "cell_type": "code",
   "execution_count": null,
   "id": "0dfbd158",
   "metadata": {},
   "outputs": [],
   "source": [
    "#Here we can discuss today how to read video using open cv in juypter Notebook\n",
    "import cv2"
   ]
  },
  {
   "cell_type": "code",
   "execution_count": null,
   "id": "26f5c967",
   "metadata": {},
   "outputs": [],
   "source": [
    "# define function for video \n",
    "cap= cv2.VideoCapture(('C://Users//upc//Desktop//Python//Object detection//video detection//01.mp4'))"
   ]
  },
  {
   "cell_type": "code",
   "execution_count": null,
   "id": "d2bd965d",
   "metadata": {},
   "outputs": [],
   "source": [
    "# now define the frame to open the video \n",
    "if not cap.isOpened():\n",
    "    cap.cv2.Videocapture(0)\n",
    "if not cap.isOpened():\n",
    "    raise IOError(\"cannot open the video\")\n",
    "font_scale=3\n",
    "font =cv2.FONT_HERSHEY_PLAIN\n",
    "\n",
    "while True:\n",
    "    ret,frame=cap.read()\n",
    "    cv2.imshow(\"showing video\", frame)\n",
    "    if cv2.waitKey(2)&0XFF==ord('q'):\n",
    "        break\n",
    "cap.release()\n",
    "cv2.destroyAllWindows()"
   ]
  },
  {
   "cell_type": "code",
   "execution_count": null,
   "id": "83a1700a",
   "metadata": {},
   "outputs": [],
   "source": [
    "# thank you for wathcing the video \n",
    "#please subscribe my channel "
   ]
  }
 ],
 "metadata": {
  "kernelspec": {
   "display_name": "Python 3 (ipykernel)",
   "language": "python",
   "name": "python3"
  },
  "language_info": {
   "codemirror_mode": {
    "name": "ipython",
    "version": 3
   },
   "file_extension": ".py",
   "mimetype": "text/x-python",
   "name": "python",
   "nbconvert_exporter": "python",
   "pygments_lexer": "ipython3",
   "version": "3.9.12"
  }
 },
 "nbformat": 4,
 "nbformat_minor": 5
}
